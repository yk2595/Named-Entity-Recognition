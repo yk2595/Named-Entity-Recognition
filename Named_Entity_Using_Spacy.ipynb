{
  "nbformat": 4,
  "nbformat_minor": 0,
  "metadata": {
    "colab": {
      "name": "Copy of Named Entity Using Spacy.ipynb",
      "provenance": []
    },
    "kernelspec": {
      "name": "python3",
      "display_name": "Python 3"
    }
  },
  "cells": [
    {
      "cell_type": "code",
      "metadata": {
        "id": "JOqrz5bUnZJB"
      },
      "source": [
        "def read_file(path):\n",
        "  with open(path,encoding='utf-8') as file:\n",
        "    data = file.read().replace('\\n', '')\n",
        "  return data"
      ],
      "execution_count": null,
      "outputs": []
    },
    {
      "cell_type": "code",
      "metadata": {
        "id": "79A3jB548tTf"
      },
      "source": [
        "import string\n",
        "def remove_non_utf_character(text):\n",
        "  text = ''.join(x for x in text if x in string.printable)\n",
        "  \n",
        "  return text"
      ],
      "execution_count": null,
      "outputs": []
    },
    {
      "cell_type": "code",
      "metadata": {
        "id": "LirI9-gc9jcq"
      },
      "source": [
        "data = read_file('data.txt')\n"
      ],
      "execution_count": null,
      "outputs": []
    },
    {
      "cell_type": "code",
      "metadata": {
        "id": "QdI9UrIcPadN"
      },
      "source": [
        "data = remove_non_utf_character(data)"
      ],
      "execution_count": null,
      "outputs": []
    },
    {
      "cell_type": "code",
      "metadata": {
        "id": "oV5hVDzI9_LH"
      },
      "source": [
        "import spacy\n",
        "from spacy import displacy\n",
        "from collections import Counter\n",
        "import en_core_web_sm\n",
        "nlp = en_core_web_sm.load()"
      ],
      "execution_count": null,
      "outputs": []
    },
    {
      "cell_type": "code",
      "metadata": {
        "id": "QmY7JZqA-hUt",
        "outputId": "117cf06c-7f21-44fe-83d7-38624951f418",
        "colab": {
          "base_uri": "https://localhost:8080/",
          "height": 54
        }
      },
      "source": [
        "doc = nlp(data)\n",
        "print([(X.text, X.label_) for X in doc.ents])"
      ],
      "execution_count": null,
      "outputs": [
        {
          "output_type": "stream",
          "text": [
            "[('Mount Palomar', 'ORG'), ('200 inches', 'QUANTITY'), ('2000', 'CARDINAL'), ('as much as 2000', 'CARDINAL'), ('earth', 'LOC'), ('SOME WAY', 'LOC')]\n"
          ],
          "name": "stdout"
        }
      ]
    }
  ]
}